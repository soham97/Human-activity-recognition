{
 "cells": [
  {
   "cell_type": "code",
   "execution_count": 1,
   "metadata": {},
   "outputs": [
    {
     "name": "stderr",
     "output_type": "stream",
     "text": [
      "Using TensorFlow backend.\n"
     ]
    }
   ],
   "source": [
    "import keras"
   ]
  },
  {
   "cell_type": "code",
   "execution_count": 2,
   "metadata": {},
   "outputs": [],
   "source": [
    "import pandas as pd\n",
    "import numpy as np\n",
    "import matplotlib.pyplot as plt\n",
    "from keras.utils.np_utils import to_categorical\n",
    "from IPython.display import SVG\n",
    "from keras.utils.vis_utils import model_to_dot\n",
    "\n",
    "# Setting seed for reproducability\n",
    "np.random.seed(1234)  \n",
    "PYTHONHASHSEED = 0\n",
    "from sklearn import preprocessing\n",
    "from sklearn.metrics import confusion_matrix, recall_score, precision_score\n",
    "from keras.models import Sequential\n",
    "from keras.layers import Dense, Dropout, LSTM, Activation\n",
    "%matplotlib inline\n",
    "\n",
    "import pydot\n",
    "import graphviz\n",
    "pydot.find_graphviz = lambda: True"
   ]
  },
  {
   "cell_type": "code",
   "execution_count": 3,
   "metadata": {},
   "outputs": [
    {
     "data": {
      "text/plain": [
       "(7352, 561)"
      ]
     },
     "execution_count": 3,
     "metadata": {},
     "output_type": "execute_result"
    }
   ],
   "source": [
    "# read training data \n",
    "train_df = pd.read_csv('X_train1.csv', header=None)\n",
    "train_df.shape"
   ]
  },
  {
   "cell_type": "code",
   "execution_count": 4,
   "metadata": {},
   "outputs": [
    {
     "data": {
      "text/plain": [
       "(7352, 1)"
      ]
     },
     "execution_count": 4,
     "metadata": {},
     "output_type": "execute_result"
    }
   ],
   "source": [
    "subject_train = pd.read_csv('subject_train.txt', header = None)\n",
    "subject_train.shape"
   ]
  },
  {
   "cell_type": "code",
   "execution_count": 5,
   "metadata": {},
   "outputs": [
    {
     "data": {
      "text/plain": [
       "(2947, 561)"
      ]
     },
     "execution_count": 5,
     "metadata": {},
     "output_type": "execute_result"
    }
   ],
   "source": [
    "# X_train = pd.concat([train_df, subject_train], axis = 1, join_axes=[train_df.index])\n",
    "# X_train.head()\n",
    "# X_train.shape\n",
    "#loading test data\n",
    "X_test = pd.read_csv('X_test1.csv', header= None)\n",
    "y_test = pd.read_csv('y_test.txt', header = None)\n",
    "y_test_cat = to_categorical(y_test)\n",
    "X_test.shape"
   ]
  },
  {
   "cell_type": "code",
   "execution_count": 6,
   "metadata": {},
   "outputs": [
    {
     "data": {
      "text/plain": [
       "(7352, 7)"
      ]
     },
     "execution_count": 6,
     "metadata": {},
     "output_type": "execute_result"
    }
   ],
   "source": [
    "Y_train = pd.read_csv('y_train.txt', header = None)\n",
    "Y_train_cat = to_categorical(Y_train)\n",
    "Y_train_cat.shape"
   ]
  },
  {
   "cell_type": "code",
   "execution_count": 7,
   "metadata": {},
   "outputs": [
    {
     "name": "stdout",
     "output_type": "stream",
     "text": [
      "_________________________________________________________________\n",
      "Layer (type)                 Output Shape              Param #   \n",
      "=================================================================\n",
      "dense_1 (Dense)              (None, 100)               56200     \n",
      "_________________________________________________________________\n",
      "dense_2 (Dense)              (None, 50)                5050      \n",
      "_________________________________________________________________\n",
      "dense_3 (Dense)              (None, 20)                1020      \n",
      "_________________________________________________________________\n",
      "dense_4 (Dense)              (None, 7)                 147       \n",
      "=================================================================\n",
      "Total params: 62,417\n",
      "Trainable params: 62,417\n",
      "Non-trainable params: 0\n",
      "_________________________________________________________________\n"
     ]
    }
   ],
   "source": [
    "model = Sequential()\n",
    "model.add(Dense(input_shape = (561,), units = 100))\n",
    "model.add(Dense(units = 50))\n",
    "model.add(Dense(units = 20))\n",
    "\n",
    "model.add(Dense(units=Y_train_cat.shape[1], activation='softmax'))\n",
    "model.compile(loss='categorical_crossentropy', optimizer='Adamax', metrics=['accuracy'])\n",
    "model.summary()"
   ]
  },
  {
   "cell_type": "code",
   "execution_count": 8,
   "metadata": {},
   "outputs": [
    {
     "name": "stdout",
     "output_type": "stream",
     "text": [
      "Train on 6984 samples, validate on 368 samples\n",
      "Epoch 1/10\n",
      "6984/6984 [==============================] - 0s - loss: 1.4087 - acc: 0.5785 - val_loss: 0.4661 - val_acc: 0.8668\n",
      "Epoch 2/10\n",
      "6984/6984 [==============================] - 0s - loss: 0.4370 - acc: 0.8704 - val_loss: 0.2891 - val_acc: 0.9457\n",
      "Epoch 3/10\n",
      "6984/6984 [==============================] - 0s - loss: 0.3225 - acc: 0.9025 - val_loss: 0.2180 - val_acc: 0.9511\n",
      "Epoch 4/10\n",
      "6984/6984 [==============================] - 0s - loss: 0.2653 - acc: 0.9178 - val_loss: 0.1752 - val_acc: 0.9565\n",
      "Epoch 5/10\n",
      "6984/6984 [==============================] - 0s - loss: 0.2297 - acc: 0.9275 - val_loss: 0.1474 - val_acc: 0.9620\n",
      "Epoch 6/10\n",
      "6984/6984 [==============================] - 0s - loss: 0.1991 - acc: 0.9393 - val_loss: 0.1420 - val_acc: 0.9538\n",
      "Epoch 7/10\n",
      "6984/6984 [==============================] - 0s - loss: 0.1784 - acc: 0.9449 - val_loss: 0.1390 - val_acc: 0.9484\n",
      "Epoch 8/10\n",
      "6984/6984 [==============================] - 0s - loss: 0.1597 - acc: 0.9506 - val_loss: 0.1132 - val_acc: 0.9674\n",
      "Epoch 9/10\n",
      "6984/6984 [==============================] - 0s - loss: 0.1462 - acc: 0.9548 - val_loss: 0.0927 - val_acc: 0.9701\n",
      "Epoch 10/10\n",
      "6984/6984 [==============================] - 0s - loss: 0.1333 - acc: 0.9576 - val_loss: 0.0907 - val_acc: 0.9728\n",
      "CPU times: user 5.96 s, sys: 886 ms, total: 6.85 s\n",
      "Wall time: 4.06 s\n"
     ]
    }
   ],
   "source": [
    "%%time\n",
    "# fit the network\n",
    "history = model.fit(np.array(train_df), np.array(Y_train_cat), epochs=10, batch_size=200, validation_split=0.05, verbose=1,\n",
    "          callbacks = [keras.callbacks.EarlyStopping(monitor='val_loss', min_delta=0, patience=0, verbose=0, mode='auto')])"
   ]
  },
  {
   "cell_type": "code",
   "execution_count": 9,
   "metadata": {},
   "outputs": [
    {
     "name": "stdout",
     "output_type": "stream",
     "text": [
      "4800/7352 [==================>...........] - ETA: 0sAccurracy: 0.9624591972415414\n"
     ]
    }
   ],
   "source": [
    "# training metrics\n",
    "scores = model.evaluate(np.array(train_df), np.array(Y_train_cat), verbose=1, batch_size=200)\n",
    "print('Accurracy: {}'.format(scores[1]))"
   ]
  },
  {
   "cell_type": "code",
   "execution_count": 10,
   "metadata": {},
   "outputs": [
    {
     "name": "stdout",
     "output_type": "stream",
     "text": [
      "4400/7352 [================>.............] - ETA: 0s(7352, 7)\n",
      "(7352, 7)\n",
      "[[ 0.  0.  0. ...,  0.  0.  0.]\n",
      " [ 0.  0.  0. ...,  0.  0.  0.]\n",
      " [ 0.  0.  0. ...,  0.  0.  0.]\n",
      " ..., \n",
      " [ 0.  0.  0. ...,  0.  0.  0.]\n",
      " [ 0.  0.  0. ...,  0.  0.  0.]\n",
      " [ 0.  0.  0. ...,  0.  0.  0.]]\n",
      "Confusion matrix\n",
      "- x-axis is true labels.\n",
      "- y-axis is predicted labels\n"
     ]
    }
   ],
   "source": [
    "# make predictions and compute confusion matrix\n",
    "y_pred = model.predict_classes(np.array(train_df),verbose=1, batch_size=200)\n",
    "y_pred = to_categorical(y_pred)\n",
    "y_true = np.array(Y_train_cat)\n",
    "print(y_pred.shape)\n",
    "print(y_true.shape)\n",
    "print(y_pred-y_true)\n",
    "print('Confusion matrix\\n- x-axis is true labels.\\n- y-axis is predicted labels')\n",
    "\n"
   ]
  },
  {
   "cell_type": "code",
   "execution_count": 11,
   "metadata": {},
   "outputs": [
    {
     "name": "stdout",
     "output_type": "stream",
     "text": [
      "Accurracy: 0.926705123874993\n"
     ]
    }
   ],
   "source": [
    "# test metrics\n",
    "scores_test = model.evaluate(np.array(X_test), np.array(y_test_cat), verbose=2)\n",
    "print('Accurracy: {}'.format(scores_test[1]))"
   ]
  },
  {
   "cell_type": "code",
   "execution_count": 12,
   "metadata": {},
   "outputs": [
    {
     "data": {
      "image/svg+xml": [
       "<svg height=\"337pt\" viewBox=\"0.00 0.00 175.24 337.00\" width=\"175pt\" xmlns=\"http://www.w3.org/2000/svg\" xmlns:xlink=\"http://www.w3.org/1999/xlink\">\n",
       "<g class=\"graph\" id=\"graph0\" transform=\"scale(1 1) rotate(0) translate(4 333)\">\n",
       "<title>G</title>\n",
       "<polygon fill=\"#ffffff\" points=\"-4,4 -4,-333 171.2383,-333 171.2383,4 -4,4\" stroke=\"transparent\"/>\n",
       "<!-- 4787579480 -->\n",
       "<g class=\"node\" id=\"node1\">\n",
       "<title>4787579480</title>\n",
       "<polygon fill=\"none\" points=\"0,-292.5 0,-328.5 167.2383,-328.5 167.2383,-292.5 0,-292.5\" stroke=\"#000000\"/>\n",
       "<text fill=\"#000000\" font-family=\"Times,serif\" font-size=\"14.00\" text-anchor=\"middle\" x=\"83.6191\" y=\"-306.3\">dense_1_input: InputLayer</text>\n",
       "</g>\n",
       "<!-- 4787578752 -->\n",
       "<g class=\"node\" id=\"node2\">\n",
       "<title>4787578752</title>\n",
       "<polygon fill=\"none\" points=\"31.4932,-219.5 31.4932,-255.5 135.7451,-255.5 135.7451,-219.5 31.4932,-219.5\" stroke=\"#000000\"/>\n",
       "<text fill=\"#000000\" font-family=\"Times,serif\" font-size=\"14.00\" text-anchor=\"middle\" x=\"83.6191\" y=\"-233.3\">dense_1: Dense</text>\n",
       "</g>\n",
       "<!-- 4787579480&#45;&gt;4787578752 -->\n",
       "<g class=\"edge\" id=\"edge1\">\n",
       "<title>4787579480-&gt;4787578752</title>\n",
       "<path d=\"M83.6191,-292.4551C83.6191,-284.3828 83.6191,-274.6764 83.6191,-265.6817\" fill=\"none\" stroke=\"#000000\"/>\n",
       "<polygon fill=\"#000000\" points=\"87.1192,-265.5903 83.6191,-255.5904 80.1192,-265.5904 87.1192,-265.5903\" stroke=\"#000000\"/>\n",
       "</g>\n",
       "<!-- 4787579088 -->\n",
       "<g class=\"node\" id=\"node3\">\n",
       "<title>4787579088</title>\n",
       "<polygon fill=\"none\" points=\"31.4932,-146.5 31.4932,-182.5 135.7451,-182.5 135.7451,-146.5 31.4932,-146.5\" stroke=\"#000000\"/>\n",
       "<text fill=\"#000000\" font-family=\"Times,serif\" font-size=\"14.00\" text-anchor=\"middle\" x=\"83.6191\" y=\"-160.3\">dense_2: Dense</text>\n",
       "</g>\n",
       "<!-- 4787578752&#45;&gt;4787579088 -->\n",
       "<g class=\"edge\" id=\"edge2\">\n",
       "<title>4787578752-&gt;4787579088</title>\n",
       "<path d=\"M83.6191,-219.4551C83.6191,-211.3828 83.6191,-201.6764 83.6191,-192.6817\" fill=\"none\" stroke=\"#000000\"/>\n",
       "<polygon fill=\"#000000\" points=\"87.1192,-192.5903 83.6191,-182.5904 80.1192,-192.5904 87.1192,-192.5903\" stroke=\"#000000\"/>\n",
       "</g>\n",
       "<!-- 4787579984 -->\n",
       "<g class=\"node\" id=\"node4\">\n",
       "<title>4787579984</title>\n",
       "<polygon fill=\"none\" points=\"31.4932,-73.5 31.4932,-109.5 135.7451,-109.5 135.7451,-73.5 31.4932,-73.5\" stroke=\"#000000\"/>\n",
       "<text fill=\"#000000\" font-family=\"Times,serif\" font-size=\"14.00\" text-anchor=\"middle\" x=\"83.6191\" y=\"-87.3\">dense_3: Dense</text>\n",
       "</g>\n",
       "<!-- 4787579088&#45;&gt;4787579984 -->\n",
       "<g class=\"edge\" id=\"edge3\">\n",
       "<title>4787579088-&gt;4787579984</title>\n",
       "<path d=\"M83.6191,-146.4551C83.6191,-138.3828 83.6191,-128.6764 83.6191,-119.6817\" fill=\"none\" stroke=\"#000000\"/>\n",
       "<polygon fill=\"#000000\" points=\"87.1192,-119.5903 83.6191,-109.5904 80.1192,-119.5904 87.1192,-119.5903\" stroke=\"#000000\"/>\n",
       "</g>\n",
       "<!-- 4389975040 -->\n",
       "<g class=\"node\" id=\"node5\">\n",
       "<title>4389975040</title>\n",
       "<polygon fill=\"none\" points=\"31.4932,-.5 31.4932,-36.5 135.7451,-36.5 135.7451,-.5 31.4932,-.5\" stroke=\"#000000\"/>\n",
       "<text fill=\"#000000\" font-family=\"Times,serif\" font-size=\"14.00\" text-anchor=\"middle\" x=\"83.6191\" y=\"-14.3\">dense_4: Dense</text>\n",
       "</g>\n",
       "<!-- 4787579984&#45;&gt;4389975040 -->\n",
       "<g class=\"edge\" id=\"edge4\">\n",
       "<title>4787579984-&gt;4389975040</title>\n",
       "<path d=\"M83.6191,-73.4551C83.6191,-65.3828 83.6191,-55.6764 83.6191,-46.6817\" fill=\"none\" stroke=\"#000000\"/>\n",
       "<polygon fill=\"#000000\" points=\"87.1192,-46.5903 83.6191,-36.5904 80.1192,-46.5904 87.1192,-46.5903\" stroke=\"#000000\"/>\n",
       "</g>\n",
       "</g>\n",
       "</svg>"
      ],
      "text/plain": [
       "<IPython.core.display.SVG object>"
      ]
     },
     "execution_count": 12,
     "metadata": {},
     "output_type": "execute_result"
    }
   ],
   "source": [
    "#model visualize\n",
    "SVG(model_to_dot(model).create(prog='dot', format='svg'))"
   ]
  },
  {
   "cell_type": "code",
   "execution_count": 13,
   "metadata": {},
   "outputs": [
    {
     "name": "stdout",
     "output_type": "stream",
     "text": [
      "dict_keys(['val_loss', 'val_acc', 'loss', 'acc'])\n"
     ]
    },
    {
     "data": {
      "image/png": "[encoded data removed]",
      "text/plain": [
       "<matplotlib.figure.Figure at 0x11faea748>"
      ]
     },
     "metadata": {},
     "output_type": "display_data"
    },
    {
     "data": {
      "image/png": "[encoded data removed]",
      "text/plain": [
       "<matplotlib.figure.Figure at 0x11fc3e550>"
      ]
     },
     "metadata": {},
     "output_type": "display_data"
    }
   ],
   "source": [
    "#plots\n",
    "# list all data in history\n",
    "print(history.history.keys())\n",
    "# summarize history for accuracy\n",
    "plt.plot(history.history['acc'])\n",
    "plt.plot(history.history['val_acc'])\n",
    "plt.title('model accuracy')\n",
    "plt.ylabel('accuracy')\n",
    "plt.xlabel('epoch')\n",
    "plt.legend(['train', 'test'], loc='upper left')\n",
    "plt.show()\n",
    "# summarize history for loss\n",
    "plt.plot(history.history['loss'])\n",
    "plt.plot(history.history['val_loss'])\n",
    "plt.title('model loss')\n",
    "plt.ylabel('loss')\n",
    "plt.xlabel('epoch')\n",
    "plt.legend(['train', 'test'], loc='upper left')\n",
    "plt.show()"
   ]
  }
 ],
 "metadata": {
  "kernelspec": {
   "display_name": "Python 3",
   "language": "python",
   "name": "python3"
  },
  "language_info": {
   "codemirror_mode": {
    "name": "ipython",
    "version": 3
   },
   "file_extension": ".py",
   "mimetype": "text/x-python",
   "name": "python",
   "nbconvert_exporter": "python",
   "pygments_lexer": "ipython3",
   "version": "3.6.2"
  }
 },
 "nbformat": 4,
 "nbformat_minor": 2
}
